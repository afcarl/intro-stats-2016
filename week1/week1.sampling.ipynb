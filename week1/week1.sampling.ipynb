{
 "cells": [
  {
   "cell_type": "markdown",
   "metadata": {},
   "source": [
    "# Week 1 - Sampling\n",
    "\n",
    "In this notebook we will cover the basics about\n",
    "\n",
    "1. Definition of probabilities\n",
    "2. Probability distributions\n",
    "3. Sampling"
   ]
  },
  {
   "cell_type": "markdown",
   "metadata": {},
   "source": [
    "We will first get an intuition about probabilities.\n",
    "\n",
    "Suppose that we are on the hunt for H pylori.  We want to test to see if a particular patient has this strain of H pylori based on their fecal samples.\n",
    "\n",
    "We can abstract this scenario to visualize balls in a bucket.  There are two types of balls, red balls and blue balls.  The H pylori bacteria can be represented by red balls, and all of the other balls present bacteria that aren't H pylori.  \n",
    "\n",
    "So if 10% of the bacteria are H pylori, then 10% of the balls in the bucket are red.\n",
    "\n",
    "Since 10% of the balls are red, that means that when a ball is drawn out of the bucket, the probability of drawing a red ball is 10%.  We can simulate this to show this using the [numpy.random.choice](http://docs.scipy.org/doc/numpy/reference/generated/numpy.random.choice.html) function.\n",
    "\n",
    "What we will do below, is define a bucket with only 9 blue balls and 1 red ball."
   ]
  },
  {
   "cell_type": "code",
   "execution_count": 1,
   "metadata": {
    "collapsed": false
   },
   "outputs": [
    {
     "name": "stderr",
     "output_type": "stream",
     "text": [
      "/Users/mortonjt/miniconda3/envs/bio/lib/python3.5/site-packages/IPython/html.py:14: ShimWarning: The `IPython.html` package has been deprecated. You should import from `notebook` instead. `IPython.html.widgets` has moved to `ipywidgets`.\n",
      "  \"`IPython.html.widgets` has moved to `ipywidgets`.\", ShimWarning)\n"
     ]
    }
   ],
   "source": [
    "import numpy as np\n",
    "import seaborn as sns\n",
    "import matplotlib.pyplot as plt\n",
    "%matplotlib inline\n",
    "\n",
    "bucket = ['red', 'blue', 'blue', 'blue', 'blue', \n",
    "          'blue', 'blue', 'blue', 'blue', 'blue']"
   ]
  },
  {
   "cell_type": "markdown",
   "metadata": {},
   "source": [
    "Now we have defined a bucket, we will randomly draw balls from it.\n",
    "But once we draw a bucket, we will observe it, and place it back into bucket. \n",
    "This is known as [sampling with replacement](https://en.wikipedia.org/wiki/Simple_random_sample).\n",
    "\n",
    "Below, we will draw 1 ball from the bucket, and repeat this 10 times."
   ]
  },
  {
   "cell_type": "code",
   "execution_count": 2,
   "metadata": {
    "collapsed": false
   },
   "outputs": [
    {
     "data": {
      "text/plain": [
       "array(['blue', 'blue', 'blue', 'blue', 'red', 'red', 'blue', 'blue',\n",
       "       'blue', 'blue'], \n",
       "      dtype='<U4')"
      ]
     },
     "execution_count": 2,
     "metadata": {},
     "output_type": "execute_result"
    }
   ],
   "source": [
    "np.random.seed(1) # set random seed\n",
    "draws = np.random.choice(bucket, size=10)\n",
    "draws"
   ]
  },
  {
   "cell_type": "markdown",
   "metadata": {},
   "source": [
    "As you can see, most of the balls we have draw are blue.\n",
    "Let's plot a histogram of the balls we have observed"
   ]
  },
  {
   "cell_type": "code",
   "execution_count": 3,
   "metadata": {
    "collapsed": false
   },
   "outputs": [
    {
     "data": {
      "text/plain": [
       "<matplotlib.axes._subplots.AxesSubplot at 0x10c96b4e0>"
      ]
     },
     "execution_count": 3,
     "metadata": {},
     "output_type": "execute_result"
    },
    {
     "data": {
      "image/png": "[encoded data removed]",
      "text/plain": [
       "<matplotlib.figure.Figure at 0x1050f3048>"
      ]
     },
     "metadata": {},
     "output_type": "display_data"
    }
   ],
   "source": [
    "fig, ax = plt.subplots()\n",
    "sns.countplot(draws, ax=ax, palette={'red':'r', 'blue':'b'})"
   ]
  },
  {
   "cell_type": "markdown",
   "metadata": {},
   "source": [
    "If we draw 1000 balls, we get most closer to actual proportion of red balls."
   ]
  },
  {
   "cell_type": "code",
   "execution_count": 4,
   "metadata": {
    "collapsed": false
   },
   "outputs": [
    {
     "data": {
      "text/plain": [
       "<matplotlib.axes._subplots.AxesSubplot at 0x10c979d30>"
      ]
     },
     "execution_count": 4,
     "metadata": {},
     "output_type": "execute_result"
    },
    {
     "data": {
      "image/png": "[encoded data removed]",
      "text/plain": [
       "<matplotlib.figure.Figure at 0x10c9a42b0>"
      ]
     },
     "metadata": {},
     "output_type": "display_data"
    }
   ],
   "source": [
    "draws = np.random.choice(bucket, size=1000)\n",
    "\n",
    "fig, ax = plt.subplots()\n",
    "sns.countplot(draws, ax=ax, palette={'red':'r', 'blue':'b'})"
   ]
  },
  {
   "cell_type": "markdown",
   "metadata": {},
   "source": [
    "We can see about 10% of the balls are red, and 90% of the balls are blue."
   ]
  },
  {
   "cell_type": "markdown",
   "metadata": {},
   "source": [
    "If we could only draw 10 samples with replacement at a time, we have a distribution of possible outcomes.\n",
    "\n",
    "There is a possibility that only the red ball was choosen, but there is only 1 outcome that permits that.  On the other hand, there are many outcomes that permit the possibility of picking only blue balls.\n",
    "\n",
    "This brings up the notion of a binomial distribution.  This distribution describes the probability of drawing a particular subsample.  \n",
    "\n",
    "As discussed before, expectation, variance and probability mass functions are as follows\n",
    "\n",
    "Expectation: $\\mathbb{E}[x] = np$\n",
    "\n",
    "Variance: $\\mathbb{E}[x] = np(1-p)$\n",
    "\n",
    "Probability mass function: $P(x=k) = {n \\choose k} p^k (1-p)^{n-k}$\n",
    "\n",
    "If we were repeatedly draw 10 balls with replacement out of this bucket, it would look like this.\n",
    "\n"
   ]
  },
  {
   "cell_type": "code",
   "execution_count": 5,
   "metadata": {
    "collapsed": false
   },
   "outputs": [
    {
     "data": {
      "text/plain": [
       "<matplotlib.text.Text at 0x10cb9a5f8>"
      ]
     },
     "execution_count": 5,
     "metadata": {},
     "output_type": "execute_result"
    },
    {
     "data": {
      "image/png": "[encoded data removed]",
      "text/plain": [
       "<matplotlib.figure.Figure at 0x10cb682e8>"
      ]
     },
     "metadata": {},
     "output_type": "display_data"
    }
   ],
   "source": [
    "fig, ax = plt.subplots()\n",
    "\n",
    "samples = np.random.binomial(3,         # number of draws with replacement\n",
    "                             p=0.1,     # proportion of red balls\n",
    "                             size=10000 # number of samples to simulate\n",
    "                             )\n",
    "sns.countplot(samples, ax=ax)\n",
    "plt.xlabel('Number of red balls drawn')"
   ]
  },
  {
   "cell_type": "markdown",
   "metadata": {},
   "source": [
    "As shown, even with 10000 simulated samples, there was no sample where all of the balls were red.  This is because the probability of drawing only red balls is extremely small.\n",
    "\n",
    "Specifically it is\n",
    "\n",
    "$P(10\\ red) = \\frac{1}{10}\\frac{1}{10}\\frac{1}{10} = (\\frac{1}{10}) ^ {3}$"
   ]
  },
  {
   "cell_type": "markdown",
   "metadata": {},
   "source": [
    "Now, what if we instead of replacing the ball, we permanently remove the drawn ball from the bucket."
   ]
  },
  {
   "cell_type": "code",
   "execution_count": 6,
   "metadata": {
    "collapsed": false
   },
   "outputs": [
    {
     "data": {
      "text/plain": [
       "array(['blue', 'blue', 'blue'], \n",
       "      dtype='<U4')"
      ]
     },
     "execution_count": 6,
     "metadata": {},
     "output_type": "execute_result"
    }
   ],
   "source": [
    "np.random.seed(1) # set random seed\n",
    "draws = np.random.choice(bucket, size=3, replace=False)\n",
    "draws"
   ]
  },
  {
   "cell_type": "markdown",
   "metadata": {},
   "source": [
    "Now, this is concept is completely different from sampling with replacement.  \n",
    "\n",
    "If we wanted to observe all of the possible number of samples, using the sampling without replacement scheme, we would need to use another distribution.  The [Hypergeometric distribution](https://en.wikipedia.org/wiki/Hypergeometric_distribution)\n",
    "\n",
    "Let's simulate a bunch of random samples using this distribution."
   ]
  },
  {
   "cell_type": "code",
   "execution_count": 7,
   "metadata": {
    "collapsed": false
   },
   "outputs": [
    {
     "data": {
      "text/plain": [
       "<matplotlib.text.Text at 0x10cbad630>"
      ]
     },
     "execution_count": 7,
     "metadata": {},
     "output_type": "execute_result"
    },
    {
     "data": {
      "image/png": "[encoded data removed]",
      "text/plain": [
       "<matplotlib.figure.Figure at 0x10cc71fd0>"
      ]
     },
     "metadata": {},
     "output_type": "display_data"
    }
   ],
   "source": [
    "fig, ax = plt.subplots()\n",
    "\n",
    "samples = np.random.hypergeometric(ngood=1,      # number of blue balls\n",
    "                                   nbad=9,       # number of red balls\n",
    "                                   nsample=3,    # number of draws per sample\n",
    "                                   size=10000    # number of samples to simulate\n",
    "                                   )\n",
    "sns.countplot(samples, ax=ax)\n",
    "plt.xlabel('Number of red balls drawn')"
   ]
  },
  {
   "cell_type": "markdown",
   "metadata": {},
   "source": [
    "As noted, we get a very different distribution of samples, compared to the sampling with replacement scheme."
   ]
  },
  {
   "cell_type": "markdown",
   "metadata": {},
   "source": [
    "Let's go back to a more realistic H pylori example.\n",
    "\n",
    "The average person has on the order of $10^{12}$ microbial cells in their gut.  When researchers measure microbial DNA from a human subject, they are subsampling from a fecal sample, which is already a very tiny subsample of the microbial cells in gut.\n",
    "\n",
    "Say a fecal sample has $10^3$ cells, and we have sequenced DNA from $10^2$  cells.  And 10% of the cells in the original sample are H pylori cells.  Because we are doing destructive sampling, we are no longer sampling with replacement, we are sampling without replacement.\n",
    "\n",
    "Let's try to simulate this, first doing sampling without replacement"
   ]
  },
  {
   "cell_type": "code",
   "execution_count": 8,
   "metadata": {
    "collapsed": false
   },
   "outputs": [
    {
     "data": {
      "text/plain": [
       "<matplotlib.axes._subplots.AxesSubplot at 0x10cc94828>"
      ]
     },
     "execution_count": 8,
     "metadata": {},
     "output_type": "execute_result"
    },
    {
     "data": {
      "image/png": "[encoded data removed]",
      "text/plain": [
       "<matplotlib.figure.Figure at 0x10cf03c50>"
      ]
     },
     "metadata": {},
     "output_type": "display_data"
    }
   ],
   "source": [
    "Hpylori = ['H_pylori']*100\n",
    "not_Hpylori = ['Not_H_pylori']*900\n",
    "\n",
    "bucket = Hpylori + not_Hpylori\n",
    "draws = np.random.choice(bucket, size=100, replace=False)\n",
    "\n",
    "fig, ax = plt.subplots()\n",
    "sns.countplot(draws, ax=ax, palette={'H_pylori':'r', 'Not_H_pylori':'b'})"
   ]
  },
  {
   "cell_type": "markdown",
   "metadata": {},
   "source": [
    "Now, note how similar this was to the sampling with replacement diagram above.\n",
    "\n",
    "Similar to before, we wanted to observe all of the possible number of samples, using the sampling without replacement scheme, we would need to use another distribution.  The [Hypergeometric distribution](https://en.wikipedia.org/wiki/Hypergeometric_distribution)"
   ]
  },
  {
   "cell_type": "code",
   "execution_count": 9,
   "metadata": {
    "collapsed": false
   },
   "outputs": [
    {
     "data": {
      "text/plain": [
       "<matplotlib.text.Text at 0x10cdc5cf8>"
      ]
     },
     "execution_count": 9,
     "metadata": {},
     "output_type": "execute_result"
    },
    {
     "data": {
      "image/png": "[encoded data removed]",
      "text/plain": [
       "<matplotlib.figure.Figure at 0x10cf97128>"
      ]
     },
     "metadata": {},
     "output_type": "display_data"
    }
   ],
   "source": [
    "fig, ax = plt.subplots()\n",
    "\n",
    "samples = np.random.hypergeometric(ngood=len(Hpylori),    # number of H pylori cells in original sample\n",
    "                                   nbad=len(not_Hpylori), # number of non H pylori cells in original sample\n",
    "                                   nsample=100,           # number of draws per sample\n",
    "                                   size=10000             # number of samples to simulate\n",
    "                                   )\n",
    "sns.countplot(samples, ax=ax)\n",
    "plt.xlabel('Number of red balls drawn')"
   ]
  },
  {
   "cell_type": "markdown",
   "metadata": {},
   "source": [
    "Now, let's repeat this, except using the binomial distribution we discussed before."
   ]
  },
  {
   "cell_type": "code",
   "execution_count": 10,
   "metadata": {
    "collapsed": false
   },
   "outputs": [
    {
     "data": {
      "text/plain": [
       "<matplotlib.text.Text at 0x10da045c0>"
      ]
     },
     "execution_count": 10,
     "metadata": {},
     "output_type": "execute_result"
    },
    {
     "data": {
      "image/png": "[encoded data removed]",
      "text/plain": [
       "<matplotlib.figure.Figure at 0x10cf3d390>"
      ]
     },
     "metadata": {},
     "output_type": "display_data"
    }
   ],
   "source": [
    "fig, ax = plt.subplots()\n",
    "\n",
    "samples = np.random.binomial(100,       # number of draws with replacement\n",
    "                             p=0.1,     # proportion of red balls\n",
    "                             size=10000 # number of samples to simulate\n",
    "                             )\n",
    "sns.countplot(samples, ax=ax)\n",
    "plt.xlabel('Number of red balls drawn')"
   ]
  },
  {
   "cell_type": "markdown",
   "metadata": {},
   "source": [
    "Note how similar the hypergeometric distribution is to the binomial distribution.\n",
    "\n",
    "\n",
    "The main take away is, for our typical experiments, we are actually doing sampling without replacement.  \n",
    "But when the number of total microbial cells drawn in each sample is high, the difference between sampling with replacement, and sampling without replacement is completely neglible.\n",
    "\n",
    "For our experiments, we are typically not only interested in looking at just 1 bacteria, we want to look at all of the bacteria picked up by sequencing.  The [multinomial distribution](https://en.wikipedia.org/wiki/Multinomial_distribution) is an extension of the binomial distribution to handle more bacteria.  And the binomial distribution is said to be a marginal distribution of the multinomial distribution.\n",
    "\n",
    "Expectation: $\\mathbb{E}[x_i] = np_i$\n",
    "\n",
    "Variance: $\\mathbb{E}[x_i] = np_i(1-p_i)$"
   ]
  },
  {
   "cell_type": "markdown",
   "metadata": {},
   "source": [
    "# Fun topic: rarefaction\n",
    "\n",
    "If you want to estimate the proportion of microbes, it can be calculated through [Linearity of Expectation](https://en.wikipedia.org/wiki/Expected_value)\n",
    "\n",
    "Now we can actually calculate the expectation of the proportion estimate $\\hat{p} = \\frac{x_i}{n}$ where $x_i$ is a binomial random variable as follows\n",
    "\n",
    "$\\mathbb{E}[\\hat{p_i}] = \\mathbb{E}[\\frac{x_i}{n}] = \\frac{np_i}{n} = p_i$\n",
    "\n",
    "Now, if we wanted to estimate the variance of this estimate, it uses the property $V[ax] = a^2 V[x]$\n",
    "\n",
    "$V[\\hat{p_i}] = V[\\frac{x_i}{n}] = \\frac{V[x_i]}{n^2} = \\frac{np_i(1-p_i)}{n^2} = \\frac{p_i(1-p_i)}{n}$\n",
    "\n",
    "So the estimate of the proportions of microbes gets better as there are more balls sampled.\n",
    "The main controversy behind rarefaction is random subsampling makes this estimate of the proportions crappier, which could propogate into downstream analyses."
   ]
  },
  {
   "cell_type": "code",
   "execution_count": null,
   "metadata": {
    "collapsed": true
   },
   "outputs": [],
   "source": []
  }
 ],
 "metadata": {
  "kernelspec": {
   "display_name": "Python 3",
   "language": "python",
   "name": "python3"
  },
  "language_info": {
   "codemirror_mode": {
    "name": "ipython",
    "version": 3
   },
   "file_extension": ".py",
   "mimetype": "text/x-python",
   "name": "python",
   "nbconvert_exporter": "python",
   "pygments_lexer": "ipython3",
   "version": "3.5.2"
  }
 },
 "nbformat": 4,
 "nbformat_minor": 0
}
