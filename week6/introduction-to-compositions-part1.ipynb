{
 "cells": [
  {
   "cell_type": "markdown",
   "metadata": {
    "slideshow": {
     "slide_type": "slide"
    }
   },
   "source": [
    "# Introduction to Compositional Data Analysis"
   ]
  },
  {
   "cell_type": "markdown",
   "metadata": {
    "slideshow": {
     "slide_type": "slide"
    }
   },
   "source": [
    "Questions we'd like to answer\n",
    "\n",
    "1. Differential abundance\n",
    "2. Microbe correlation\n",
    "3. Community separation (PCoA)*\n",
    "\n"
   ]
  },
  {
   "cell_type": "markdown",
   "metadata": {
    "slideshow": {
     "slide_type": "slide"
    }
   },
   "source": [
    "The Problem\n",
    "- Sparsity\n",
    "- Compositionality *"
   ]
  },
  {
   "cell_type": "markdown",
   "metadata": {
    "slideshow": {
     "slide_type": "slide"
    }
   },
   "source": [
    "# Urn analogy\n",
    "\n",
    "<img src=\"images/urn.jpg\">"
   ]
  },
  {
   "cell_type": "markdown",
   "metadata": {
    "slideshow": {
     "slide_type": "fragment"
    }
   },
   "source": [
    "- Balls = microbes\n",
    "- Colors = microbial taxa\n",
    "- Bucket = environment (i.e. human gut)"
   ]
  },
  {
   "cell_type": "markdown",
   "metadata": {
    "slideshow": {
     "slide_type": "slide"
    }
   },
   "source": [
    "Suppose\n",
    "\n",
    "You are collecting two samples, one sample at time point 1 and another sample at time point 2."
   ]
  },
  {
   "cell_type": "code",
   "execution_count": 1,
   "metadata": {
    "collapsed": false,
    "slideshow": {
     "slide_type": "skip"
    }
   },
   "outputs": [
    {
     "name": "stderr",
     "output_type": "stream",
     "text": [
      "/Users/mortonjt/miniconda3/envs/bio/lib/python3.5/site-packages/IPython/html.py:14: ShimWarning: The `IPython.html` package has been deprecated. You should import from `notebook` instead. `IPython.html.widgets` has moved to `ipywidgets`.\n",
      "  \"`IPython.html.widgets` has moved to `ipywidgets`.\", ShimWarning)\n"
     ]
    }
   ],
   "source": [
    "import matplotlib.pyplot as plt\n",
    "import numpy as np\n",
    "import pandas as pd\n",
    "import scipy\n",
    "import seaborn as sns\n",
    "from skbio.stats.composition import closure  # normalizes samples to add to 1.\n",
    "from skbio import DistanceMatrix\n",
    "from scipy.spatial.distance import euclidean\n",
    "%matplotlib inline"
   ]
  },
  {
   "cell_type": "code",
   "execution_count": 2,
   "metadata": {
    "collapsed": false,
    "slideshow": {
     "slide_type": "skip"
    }
   },
   "outputs": [
    {
     "data": {
      "text/plain": [
       "<Container object of 10 artists>"
      ]
     },
     "execution_count": 2,
     "metadata": {},
     "output_type": "execute_result"
    },
    {
     "data": {
      "image/png": "[encoded data removed]",
      "text/plain": [
       "<matplotlib.figure.Figure at 0x10cd92d68>"
      ]
     },
     "metadata": {},
     "output_type": "display_data"
    }
   ],
   "source": [
    "f, (ax1, ax2) = plt.subplots(1, 2, sharey=True)\n",
    "ax1.set_title('Time 1')\n",
    "ax2.set_title('Time 2')\n",
    "ax1.set_xlabel('Species')\n",
    "ax2.set_xlabel('Species')\n",
    "ax1.set_ylabel('% Abundance')\n",
    "ax2.set_ylabel('% Abundance')\n",
    "\n",
    "proportion_x1 = np.array([0.1, 0.1, 0.1, 0.1, 0.1, 0.1, 0.1, 0.1, 0.1, 0.1])\n",
    "proportion_x2 = np.array([0.2, 0.1, 0.1, 0.1, 0.1, 0.1, 0.1, 0.1, 0.1, 0.1])\n",
    "proportion_x2 = proportion_x2 / proportion_x2.sum()\n",
    "ax1.bar(range(10), proportion_x1)\n",
    "ax2.bar(range(10), proportion_x2)"
   ]
  },
  {
   "cell_type": "markdown",
   "metadata": {
    "slideshow": {
     "slide_type": "slide"
    }
   },
   "source": [
    "One possibility is that the first species doubled in absolute abundance."
   ]
  },
  {
   "cell_type": "code",
   "execution_count": 3,
   "metadata": {
    "collapsed": false,
    "slideshow": {
     "slide_type": "fragment"
    }
   },
   "outputs": [
    {
     "data": {
      "text/plain": [
       "<Container object of 10 artists>"
      ]
     },
     "execution_count": 3,
     "metadata": {},
     "output_type": "execute_result"
    },
    {
     "data": {
      "image/png": "[encoded data removed]",
      "text/plain": [
       "<matplotlib.figure.Figure at 0x10cd925c0>"
      ]
     },
     "metadata": {},
     "output_type": "display_data"
    }
   ],
   "source": [
    "f, (ax1, ax2) = plt.subplots(1, 2, sharey=True)\n",
    "ax1.set_title('Time 1')\n",
    "ax2.set_title('Time 2')\n",
    "ax1.set_xlabel('Species')\n",
    "ax2.set_xlabel('Species')\n",
    "ax1.set_ylabel('Absolute Abundance')\n",
    "ax2.set_ylabel('Absolute Abundance')\n",
    "\n",
    "scenario1_x1 = np.array([10, 10, 10, 10, 10, 10, 10, 10, 10, 10])\n",
    "scenario1_x2 = np.array([20] + [10, 10, 10, 10, 10, 10, 10, 10, 10])\n",
    "ax1.bar(range(10), scenario1_x1)\n",
    "ax2.bar(range(10), scenario1_x2)"
   ]
  },
  {
   "cell_type": "markdown",
   "metadata": {
    "slideshow": {
     "slide_type": "slide"
    }
   },
   "source": [
    "The other possibility is that the rest of the species halved in absolute abundance."
   ]
  },
  {
   "cell_type": "code",
   "execution_count": 4,
   "metadata": {
    "collapsed": false,
    "slideshow": {
     "slide_type": "fragment"
    }
   },
   "outputs": [
    {
     "data": {
      "text/plain": [
       "(0, 20)"
      ]
     },
     "execution_count": 4,
     "metadata": {},
     "output_type": "execute_result"
    },
    {
     "data": {
      "image/png": "[encoded data removed]",
      "text/plain": [
       "<matplotlib.figure.Figure at 0x10cd92128>"
      ]
     },
     "metadata": {},
     "output_type": "display_data"
    }
   ],
   "source": [
    "f, (ax1, ax2) = plt.subplots(1, 2, sharey=True)\n",
    "ax1.set_title('Time 1')\n",
    "ax2.set_title('Time 2')\n",
    "ax1.set_xlabel('Species')\n",
    "ax2.set_xlabel('Species')\n",
    "ax1.set_ylabel('Absolute Abundance')\n",
    "ax2.set_ylabel('Absolute Abundance')\n",
    "\n",
    "scenario2_x1 = np.array([10, 10, 10, 10, 10, 10, 10, 10, 10, 10]) \n",
    "scenario2_x2 = np.array([10] + [5, 5, 5, 5, 5, 5, 5, 5, 5])\n",
    "ax1.bar(range(10), scenario2_x1)\n",
    "ax2.bar(range(10), scenario2_x2)\n",
    "ax1.set_ylim([0, 20])\n",
    "ax2.set_ylim([0, 20])"
   ]
  },
  {
   "cell_type": "markdown",
   "metadata": {
    "slideshow": {
     "slide_type": "slide"
    }
   },
   "source": [
    "The absolute abundances in Time 2 are completely different, but they yield the same proportions.\n",
    "\n",
    "This property is known as __scale invariance__.  Specifically if you have two samples $x$ and $y$ and the following relationship holds\n",
    "\n",
    "$$\n",
    "y = \\lambda x\n",
    "$$\n",
    "\n",
    "where $\\lambda > 0$, then you are dealing with compositional data.  \n",
    "\n",
    "This happens whenever \n",
    "- you have to subsample from a large environment (think of a human gut)\n",
    "- cannot measure the total quantity in the environment (think of an ocean)"
   ]
  },
  {
   "cell_type": "markdown",
   "metadata": {
    "slideshow": {
     "slide_type": "slide"
    }
   },
   "source": [
    "Because of this phenomenon, it is impossible to infer\n",
    "\n",
    "1. What species grew and declined\n",
    "2. What species changes\n",
    "\n",
    "just based on relative abundances alone.\n",
    "\n",
    "To appreciate how difficult this is, consider the following scenario."
   ]
  },
  {
   "cell_type": "code",
   "execution_count": 5,
   "metadata": {
    "collapsed": false,
    "slideshow": {
     "slide_type": "slide"
    }
   },
   "outputs": [],
   "source": [
    "D = 1000   # number of species\n",
    "S = 10     # number of different samples\n",
    "N = 10000  # sequencing depth\n",
    "R = 30     # number of replicates\n",
    "otu_ids = [\"O%d\"%i for i in range(D)]\n",
    "sample_ids = [\"S%d\"%i for i in range(S)]\n",
    "data = [[1000]*D]\n",
    "for a in np.logspace(0, 5, S-1):\n",
    "    data.append([1000*a] + [1000]*(D-1))\n",
    "table = pd.DataFrame(data, columns=otu_ids, index=sample_ids)"
   ]
  },
  {
   "cell_type": "code",
   "execution_count": 6,
   "metadata": {
    "collapsed": false,
    "slideshow": {
     "slide_type": "slide"
    }
   },
   "outputs": [
    {
     "data": {
      "text/html": [
       "<div>\n",
       "<table border=\"1\" class=\"dataframe\">\n",
       "  <thead>\n",
       "    <tr style=\"text-align: right;\">\n",
       "      <th></th>\n",
       "      <th>O0</th>\n",
       "      <th>O1</th>\n",
       "      <th>O2</th>\n",
       "      <th>O3</th>\n",
       "      <th>O4</th>\n",
       "      <th>O5</th>\n",
       "      <th>O6</th>\n",
       "      <th>O7</th>\n",
       "      <th>O8</th>\n",
       "      <th>O9</th>\n",
       "      <th>...</th>\n",
       "      <th>O990</th>\n",
       "      <th>O991</th>\n",
       "      <th>O992</th>\n",
       "      <th>O993</th>\n",
       "      <th>O994</th>\n",
       "      <th>O995</th>\n",
       "      <th>O996</th>\n",
       "      <th>O997</th>\n",
       "      <th>O998</th>\n",
       "      <th>O999</th>\n",
       "    </tr>\n",
       "  </thead>\n",
       "  <tbody>\n",
       "    <tr>\n",
       "      <th>S0</th>\n",
       "      <td>1.000000e+03</td>\n",
       "      <td>1000</td>\n",
       "      <td>1000</td>\n",
       "      <td>1000</td>\n",
       "      <td>1000</td>\n",
       "      <td>1000</td>\n",
       "      <td>1000</td>\n",
       "      <td>1000</td>\n",
       "      <td>1000</td>\n",
       "      <td>1000</td>\n",
       "      <td>...</td>\n",
       "      <td>1000</td>\n",
       "      <td>1000</td>\n",
       "      <td>1000</td>\n",
       "      <td>1000</td>\n",
       "      <td>1000</td>\n",
       "      <td>1000</td>\n",
       "      <td>1000</td>\n",
       "      <td>1000</td>\n",
       "      <td>1000</td>\n",
       "      <td>1000</td>\n",
       "    </tr>\n",
       "    <tr>\n",
       "      <th>S1</th>\n",
       "      <td>1.000000e+03</td>\n",
       "      <td>1000</td>\n",
       "      <td>1000</td>\n",
       "      <td>1000</td>\n",
       "      <td>1000</td>\n",
       "      <td>1000</td>\n",
       "      <td>1000</td>\n",
       "      <td>1000</td>\n",
       "      <td>1000</td>\n",
       "      <td>1000</td>\n",
       "      <td>...</td>\n",
       "      <td>1000</td>\n",
       "      <td>1000</td>\n",
       "      <td>1000</td>\n",
       "      <td>1000</td>\n",
       "      <td>1000</td>\n",
       "      <td>1000</td>\n",
       "      <td>1000</td>\n",
       "      <td>1000</td>\n",
       "      <td>1000</td>\n",
       "      <td>1000</td>\n",
       "    </tr>\n",
       "    <tr>\n",
       "      <th>S2</th>\n",
       "      <td>4.216965e+03</td>\n",
       "      <td>1000</td>\n",
       "      <td>1000</td>\n",
       "      <td>1000</td>\n",
       "      <td>1000</td>\n",
       "      <td>1000</td>\n",
       "      <td>1000</td>\n",
       "      <td>1000</td>\n",
       "      <td>1000</td>\n",
       "      <td>1000</td>\n",
       "      <td>...</td>\n",
       "      <td>1000</td>\n",
       "      <td>1000</td>\n",
       "      <td>1000</td>\n",
       "      <td>1000</td>\n",
       "      <td>1000</td>\n",
       "      <td>1000</td>\n",
       "      <td>1000</td>\n",
       "      <td>1000</td>\n",
       "      <td>1000</td>\n",
       "      <td>1000</td>\n",
       "    </tr>\n",
       "    <tr>\n",
       "      <th>S3</th>\n",
       "      <td>1.778279e+04</td>\n",
       "      <td>1000</td>\n",
       "      <td>1000</td>\n",
       "      <td>1000</td>\n",
       "      <td>1000</td>\n",
       "      <td>1000</td>\n",
       "      <td>1000</td>\n",
       "      <td>1000</td>\n",
       "      <td>1000</td>\n",
       "      <td>1000</td>\n",
       "      <td>...</td>\n",
       "      <td>1000</td>\n",
       "      <td>1000</td>\n",
       "      <td>1000</td>\n",
       "      <td>1000</td>\n",
       "      <td>1000</td>\n",
       "      <td>1000</td>\n",
       "      <td>1000</td>\n",
       "      <td>1000</td>\n",
       "      <td>1000</td>\n",
       "      <td>1000</td>\n",
       "    </tr>\n",
       "    <tr>\n",
       "      <th>S4</th>\n",
       "      <td>7.498942e+04</td>\n",
       "      <td>1000</td>\n",
       "      <td>1000</td>\n",
       "      <td>1000</td>\n",
       "      <td>1000</td>\n",
       "      <td>1000</td>\n",
       "      <td>1000</td>\n",
       "      <td>1000</td>\n",
       "      <td>1000</td>\n",
       "      <td>1000</td>\n",
       "      <td>...</td>\n",
       "      <td>1000</td>\n",
       "      <td>1000</td>\n",
       "      <td>1000</td>\n",
       "      <td>1000</td>\n",
       "      <td>1000</td>\n",
       "      <td>1000</td>\n",
       "      <td>1000</td>\n",
       "      <td>1000</td>\n",
       "      <td>1000</td>\n",
       "      <td>1000</td>\n",
       "    </tr>\n",
       "    <tr>\n",
       "      <th>S5</th>\n",
       "      <td>3.162278e+05</td>\n",
       "      <td>1000</td>\n",
       "      <td>1000</td>\n",
       "      <td>1000</td>\n",
       "      <td>1000</td>\n",
       "      <td>1000</td>\n",
       "      <td>1000</td>\n",
       "      <td>1000</td>\n",
       "      <td>1000</td>\n",
       "      <td>1000</td>\n",
       "      <td>...</td>\n",
       "      <td>1000</td>\n",
       "      <td>1000</td>\n",
       "      <td>1000</td>\n",
       "      <td>1000</td>\n",
       "      <td>1000</td>\n",
       "      <td>1000</td>\n",
       "      <td>1000</td>\n",
       "      <td>1000</td>\n",
       "      <td>1000</td>\n",
       "      <td>1000</td>\n",
       "    </tr>\n",
       "    <tr>\n",
       "      <th>S6</th>\n",
       "      <td>1.333521e+06</td>\n",
       "      <td>1000</td>\n",
       "      <td>1000</td>\n",
       "      <td>1000</td>\n",
       "      <td>1000</td>\n",
       "      <td>1000</td>\n",
       "      <td>1000</td>\n",
       "      <td>1000</td>\n",
       "      <td>1000</td>\n",
       "      <td>1000</td>\n",
       "      <td>...</td>\n",
       "      <td>1000</td>\n",
       "      <td>1000</td>\n",
       "      <td>1000</td>\n",
       "      <td>1000</td>\n",
       "      <td>1000</td>\n",
       "      <td>1000</td>\n",
       "      <td>1000</td>\n",
       "      <td>1000</td>\n",
       "      <td>1000</td>\n",
       "      <td>1000</td>\n",
       "    </tr>\n",
       "    <tr>\n",
       "      <th>S7</th>\n",
       "      <td>5.623413e+06</td>\n",
       "      <td>1000</td>\n",
       "      <td>1000</td>\n",
       "      <td>1000</td>\n",
       "      <td>1000</td>\n",
       "      <td>1000</td>\n",
       "      <td>1000</td>\n",
       "      <td>1000</td>\n",
       "      <td>1000</td>\n",
       "      <td>1000</td>\n",
       "      <td>...</td>\n",
       "      <td>1000</td>\n",
       "      <td>1000</td>\n",
       "      <td>1000</td>\n",
       "      <td>1000</td>\n",
       "      <td>1000</td>\n",
       "      <td>1000</td>\n",
       "      <td>1000</td>\n",
       "      <td>1000</td>\n",
       "      <td>1000</td>\n",
       "      <td>1000</td>\n",
       "    </tr>\n",
       "    <tr>\n",
       "      <th>S8</th>\n",
       "      <td>2.371374e+07</td>\n",
       "      <td>1000</td>\n",
       "      <td>1000</td>\n",
       "      <td>1000</td>\n",
       "      <td>1000</td>\n",
       "      <td>1000</td>\n",
       "      <td>1000</td>\n",
       "      <td>1000</td>\n",
       "      <td>1000</td>\n",
       "      <td>1000</td>\n",
       "      <td>...</td>\n",
       "      <td>1000</td>\n",
       "      <td>1000</td>\n",
       "      <td>1000</td>\n",
       "      <td>1000</td>\n",
       "      <td>1000</td>\n",
       "      <td>1000</td>\n",
       "      <td>1000</td>\n",
       "      <td>1000</td>\n",
       "      <td>1000</td>\n",
       "      <td>1000</td>\n",
       "    </tr>\n",
       "    <tr>\n",
       "      <th>S9</th>\n",
       "      <td>1.000000e+08</td>\n",
       "      <td>1000</td>\n",
       "      <td>1000</td>\n",
       "      <td>1000</td>\n",
       "      <td>1000</td>\n",
       "      <td>1000</td>\n",
       "      <td>1000</td>\n",
       "      <td>1000</td>\n",
       "      <td>1000</td>\n",
       "      <td>1000</td>\n",
       "      <td>...</td>\n",
       "      <td>1000</td>\n",
       "      <td>1000</td>\n",
       "      <td>1000</td>\n",
       "      <td>1000</td>\n",
       "      <td>1000</td>\n",
       "      <td>1000</td>\n",
       "      <td>1000</td>\n",
       "      <td>1000</td>\n",
       "      <td>1000</td>\n",
       "      <td>1000</td>\n",
       "    </tr>\n",
       "  </tbody>\n",
       "</table>\n",
       "<p>10 rows × 1000 columns</p>\n",
       "</div>"
      ],
      "text/plain": [
       "              O0    O1    O2    O3    O4    O5    O6    O7    O8    O9  ...   \\\n",
       "S0  1.000000e+03  1000  1000  1000  1000  1000  1000  1000  1000  1000  ...    \n",
       "S1  1.000000e+03  1000  1000  1000  1000  1000  1000  1000  1000  1000  ...    \n",
       "S2  4.216965e+03  1000  1000  1000  1000  1000  1000  1000  1000  1000  ...    \n",
       "S3  1.778279e+04  1000  1000  1000  1000  1000  1000  1000  1000  1000  ...    \n",
       "S4  7.498942e+04  1000  1000  1000  1000  1000  1000  1000  1000  1000  ...    \n",
       "S5  3.162278e+05  1000  1000  1000  1000  1000  1000  1000  1000  1000  ...    \n",
       "S6  1.333521e+06  1000  1000  1000  1000  1000  1000  1000  1000  1000  ...    \n",
       "S7  5.623413e+06  1000  1000  1000  1000  1000  1000  1000  1000  1000  ...    \n",
       "S8  2.371374e+07  1000  1000  1000  1000  1000  1000  1000  1000  1000  ...    \n",
       "S9  1.000000e+08  1000  1000  1000  1000  1000  1000  1000  1000  1000  ...    \n",
       "\n",
       "    O990  O991  O992  O993  O994  O995  O996  O997  O998  O999  \n",
       "S0  1000  1000  1000  1000  1000  1000  1000  1000  1000  1000  \n",
       "S1  1000  1000  1000  1000  1000  1000  1000  1000  1000  1000  \n",
       "S2  1000  1000  1000  1000  1000  1000  1000  1000  1000  1000  \n",
       "S3  1000  1000  1000  1000  1000  1000  1000  1000  1000  1000  \n",
       "S4  1000  1000  1000  1000  1000  1000  1000  1000  1000  1000  \n",
       "S5  1000  1000  1000  1000  1000  1000  1000  1000  1000  1000  \n",
       "S6  1000  1000  1000  1000  1000  1000  1000  1000  1000  1000  \n",
       "S7  1000  1000  1000  1000  1000  1000  1000  1000  1000  1000  \n",
       "S8  1000  1000  1000  1000  1000  1000  1000  1000  1000  1000  \n",
       "S9  1000  1000  1000  1000  1000  1000  1000  1000  1000  1000  \n",
       "\n",
       "[10 rows x 1000 columns]"
      ]
     },
     "execution_count": 6,
     "metadata": {},
     "output_type": "execute_result"
    }
   ],
   "source": [
    "table"
   ]
  },
  {
   "cell_type": "markdown",
   "metadata": {},
   "source": [
    "Let's extract 30 replicates from each sample\n",
    "- 300 samples all together\n",
    "\n",
    "Now let's run a statistical test of \n",
    "- Replicates in S(0) versus S(i)\n",
    "- S(i) = sample i\n",
    "\n",
    "Here, we'll run the tests across all OTUs to see if it is different."
   ]
  },
  {
   "cell_type": "code",
   "execution_count": 7,
   "metadata": {
    "collapsed": true
   },
   "outputs": [],
   "source": [
    "fdr = []\n",
    "for i in range(1, S):\n",
    "    sample1 = np.random.multinomial(N, closure(table.iloc[0, :].values), size=R)\n",
    "    sample2 = np.random.multinomial(N, closure(table.iloc[i, :].values), size=R)\n",
    "    t, p = scipy.stats.ttest_ind(sample1, sample2)\n",
    "    fdr.append((p[1:]<0.05).sum())"
   ]
  },
  {
   "cell_type": "markdown",
   "metadata": {},
   "source": [
    "Now we'll plot the results to see what the false discovery rate looks like."
   ]
  },
  {
   "cell_type": "code",
   "execution_count": 8,
   "metadata": {
    "collapsed": true
   },
   "outputs": [],
   "source": [
    "x = range(i)\n",
    "labels = np.logspace(0, 5, S-1)\n",
    "labels = [\"%.2f\" % a for a in labels]"
   ]
  },
  {
   "cell_type": "code",
   "execution_count": 9,
   "metadata": {
    "collapsed": false
   },
   "outputs": [
    {
     "data": {
      "text/plain": [
       "<matplotlib.text.Text at 0x10d5215c0>"
      ]
     },
     "execution_count": 9,
     "metadata": {},
     "output_type": "execute_result"
    },
    {
     "data": {
      "image/png": "[encoded data removed]",
      "text/plain": [
       "<matplotlib.figure.Figure at 0x10d503588>"
      ]
     },
     "metadata": {},
     "output_type": "display_data"
    }
   ],
   "source": [
    "fig = plt.figure(figsize=(5, 5))\n",
    "plt.scatter(x, fdr)\n",
    "_ = plt.xticks(x, labels, rotation=90)\n",
    "plt.ylabel('Number of false positives with p-value < 0.05')\n",
    "plt.xlabel('Fold change in species 1')\n",
    "plt.title('T test FDR for 1 changing species')"
   ]
  },
  {
   "cell_type": "markdown",
   "metadata": {},
   "source": [
    "From here, it appears that when species 1 has increased by 3 orders of magnitude, it will appear as if everything has changed.\n",
    "\n",
    "What about Mann-Whitney?"
   ]
  },
  {
   "cell_type": "code",
   "execution_count": 10,
   "metadata": {
    "collapsed": true,
    "slideshow": {
     "slide_type": "skip"
    }
   },
   "outputs": [],
   "source": [
    "fdr = []\n",
    "for i in range(1, S):\n",
    "    sample1 = np.random.multinomial(N, closure(table.iloc[0, :].values), size=R)\n",
    "    sample2 = np.random.multinomial(N, closure(table.iloc[i, :].values), size=R)\n",
    "    p = np.array([scipy.stats.mannwhitneyu(sample1[:, i], sample2[:, i]).pvalue for i in range(D)])\n",
    "    fdr.append((p[1:]<0.05).sum())"
   ]
  },
  {
   "cell_type": "code",
   "execution_count": 11,
   "metadata": {
    "collapsed": false
   },
   "outputs": [
    {
     "data": {
      "text/plain": [
       "<matplotlib.text.Text at 0x10d929898>"
      ]
     },
     "execution_count": 11,
     "metadata": {},
     "output_type": "execute_result"
    },
    {
     "data": {
      "image/png": "[encoded data removed]",
      "text/plain": [
       "<matplotlib.figure.Figure at 0x10d507860>"
      ]
     },
     "metadata": {},
     "output_type": "display_data"
    }
   ],
   "source": [
    "fig = plt.figure(figsize=(5, 5))\n",
    "x = range(i)\n",
    "plt.scatter(x, fdr)\n",
    "_ = plt.xticks(x, sample_ids[1:])\n",
    "plt.ylabel('Number of false positives with p-value < 0.05')\n",
    "plt.xlabel('Fold change in species 1')\n",
    "plt.title('Mann Whitney test FDR for 1 changing species')"
   ]
  },
  {
   "cell_type": "markdown",
   "metadata": {},
   "source": [
    "This is actually not unrealistic\n",
    " - blooms do happen frequently. \n",
    "\n",
    "In summary - using univariate tests can result in high false positives\n",
    "\n",
    "This is because proportions are unstable quantities to estimate."
   ]
  },
  {
   "cell_type": "markdown",
   "metadata": {},
   "source": [
    "# Scaling"
   ]
  },
  {
   "cell_type": "code",
   "execution_count": 20,
   "metadata": {
    "collapsed": false
   },
   "outputs": [
    {
     "data": {
      "text/plain": [
       "<Container object of 100 artists>"
      ]
     },
     "execution_count": 20,
     "metadata": {},
     "output_type": "execute_result"
    },
    {
     "data": {
      "image/png": "[encoded data removed]",
      "text/plain": [
       "<matplotlib.figure.Figure at 0x10f12dcf8>"
      ]
     },
     "metadata": {},
     "output_type": "display_data"
    }
   ],
   "source": [
    "f, (ax1, ax2) = plt.subplots(1, 2, sharey=True)\n",
    "ax1.set_title('Time 1')\n",
    "ax2.set_title('Time 2')\n",
    "ax1.set_xlabel('Species')\n",
    "ax2.set_xlabel('Species')\n",
    "ax1.set_ylabel('% Abundance')\n",
    "ax2.set_ylabel('% Abundance')\n",
    "N = 10000\n",
    "num_species = 100\n",
    "scenario2_x1 = np.exp(-np.linspace(0, 8, num_species))\n",
    "scenario2_x2 = np.exp(-np.linspace(0, 8, num_species))\n",
    "scenario2_x2[60] *= 10\n",
    "\n",
    "scenario2_x1 = scenario2_x1 / scenario2_x1.sum()\n",
    "scenario2_x2 = scenario2_x2 / scenario2_x2.sum()\n",
    "\n",
    "ax1.bar(range(num_species), scenario2_x1)\n",
    "ax2.bar(range(num_species), scenario2_x2)"
   ]
  },
  {
   "cell_type": "code",
   "execution_count": 21,
   "metadata": {
    "collapsed": false
   },
   "outputs": [],
   "source": [
    "samples = []\n",
    "reps = 30\n",
    "sample1 = np.random.multinomial(N, scenario2_x1, size=reps) / N\n",
    "sample2 = np.random.multinomial(N, scenario2_x2, size=reps) / N\n",
    "samples = np.vstack((sample1, sample2))\n",
    "\n",
    "dm = DistanceMatrix.from_iterable(samples, metric=euclidean)\n",
    "dm = pd.DataFrame(dm.data, index=dm.ids, columns=dm.ids)"
   ]
  },
  {
   "cell_type": "code",
   "execution_count": 22,
   "metadata": {
    "collapsed": false
   },
   "outputs": [
    {
     "data": {
      "text/plain": [
       "<matplotlib.text.Text at 0x10f8ae9e8>"
      ]
     },
     "execution_count": 22,
     "metadata": {},
     "output_type": "execute_result"
    },
    {
     "data": {
      "image/png": "[encoded data removed]",
      "text/plain": [
       "<matplotlib.figure.Figure at 0x10ee1ff28>"
      ]
     },
     "metadata": {},
     "output_type": "display_data"
    }
   ],
   "source": [
    "f, ax = plt.subplots()\n",
    "sample1_var = np.ravel(dm.iloc[:30, :30].values)\n",
    "sample2_var = np.ravel(dm.iloc[30:, 30:].values)\n",
    "between_var = np.ravel(dm.iloc[30:, :30].values)\n",
    "sns.distplot(sample1_var, ax=ax, kde=False, label='within sample 1')\n",
    "sns.distplot(sample2_var, ax=ax, kde=False, label='within sample 2')\n",
    "sns.distplot(between_var, ax=ax, kde=False, label='between')\n",
    "plt.legend(loc=0)\n",
    "plt.title('Pairwise Euclidean distance')"
   ]
  },
  {
   "cell_type": "code",
   "execution_count": 23,
   "metadata": {
    "collapsed": false
   },
   "outputs": [
    {
     "data": {
      "text/plain": [
       "<Container object of 100 artists>"
      ]
     },
     "execution_count": 23,
     "metadata": {},
     "output_type": "execute_result"
    },
    {
     "data": {
      "image/png": "[encoded data removed]",
      "text/plain": [
       "<matplotlib.figure.Figure at 0x10fa03b38>"
      ]
     },
     "metadata": {},
     "output_type": "display_data"
    }
   ],
   "source": [
    "f, (ax1, ax2) = plt.subplots(1, 2, sharey=True)\n",
    "ax1.set_title('Time 1')\n",
    "ax2.set_title('Time 2')\n",
    "ax1.set_xlabel('Species')\n",
    "ax2.set_xlabel('Species')\n",
    "ax1.set_ylabel('% Abundance')\n",
    "ax2.set_ylabel('% Abundance')\n",
    "N = 10000\n",
    "scenario2_x1 = np.exp(-np.linspace(0, 5, num_species))\n",
    "scenario2_x2 = np.exp(-np.linspace(0, 5, num_species))\n",
    "scenario2_x2[1] *= 2\n",
    "\n",
    "scenario2_x1 = scenario2_x1 / scenario2_x1.sum()\n",
    "scenario2_x2 = scenario2_x2 / scenario2_x2.sum()\n",
    "\n",
    "ax1.bar(range(num_species), scenario2_x1)\n",
    "ax2.bar(range(num_species), scenario2_x2)"
   ]
  },
  {
   "cell_type": "code",
   "execution_count": 24,
   "metadata": {
    "collapsed": false
   },
   "outputs": [],
   "source": [
    "samples = []\n",
    "reps = 30\n",
    "sample1 = np.random.multinomial(N, scenario2_x1, size=reps) / N\n",
    "sample2 = np.random.multinomial(N, scenario2_x2, size=reps) / N\n",
    "samples = np.vstack((sample1, sample2))\n",
    "\n",
    "dm = DistanceMatrix.from_iterable(samples, metric=euclidean)\n",
    "dm = pd.DataFrame(dm.data, index=dm.ids, columns=dm.ids)"
   ]
  },
  {
   "cell_type": "code",
   "execution_count": 25,
   "metadata": {
    "collapsed": false
   },
   "outputs": [
    {
     "data": {
      "text/plain": [
       "<matplotlib.text.Text at 0x11018cb00>"
      ]
     },
     "execution_count": 25,
     "metadata": {},
     "output_type": "execute_result"
    },
    {
     "data": {
      "image/png": "[encoded data removed]",
      "text/plain": [
       "<matplotlib.figure.Figure at 0x10fe81ef0>"
      ]
     },
     "metadata": {},
     "output_type": "display_data"
    }
   ],
   "source": [
    "f, ax = plt.subplots()\n",
    "sample1_var = np.ravel(dm.iloc[:30, :30].values)\n",
    "sample2_var = np.ravel(dm.iloc[30:, 30:].values)\n",
    "between_var = np.ravel(dm.iloc[30:, :30].values)\n",
    "sns.distplot(sample1_var, ax=ax, kde=False, label='within sample 1')\n",
    "sns.distplot(sample2_var, ax=ax, kde=False, label='within sample 2')\n",
    "sns.distplot(between_var, ax=ax, kde=False, label='between')\n",
    "plt.legend(loc=0)\n",
    "plt.title('Pairwise Euclidean distance')"
   ]
  },
  {
   "cell_type": "code",
   "execution_count": null,
   "metadata": {
    "collapsed": true
   },
   "outputs": [],
   "source": []
  },
  {
   "cell_type": "code",
   "execution_count": null,
   "metadata": {
    "collapsed": true
   },
   "outputs": [],
   "source": []
  }
 ],
 "metadata": {
  "celltoolbar": "Slideshow",
  "kernelspec": {
   "display_name": "Python 3",
   "language": "python",
   "name": "python3"
  },
  "language_info": {
   "codemirror_mode": {
    "name": "ipython",
    "version": 3
   },
   "file_extension": ".py",
   "mimetype": "text/x-python",
   "name": "python",
   "nbconvert_exporter": "python",
   "pygments_lexer": "ipython3",
   "version": "3.5.2"
  }
 },
 "nbformat": 4,
 "nbformat_minor": 0
}
